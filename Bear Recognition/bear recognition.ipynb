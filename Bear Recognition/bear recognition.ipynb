{
 "cells": [
  {
   "cell_type": "markdown",
   "id": "0c5e55d3",
   "metadata": {},
   "source": [
    "# Detect the Grizlly Bear"
   ]
  },
  {
   "cell_type": "code",
   "execution_count": null,
   "id": "f6859dc7",
   "metadata": {},
   "outputs": [],
   "source": [
    "!pip install fastai -Uqq fastai"
   ]
  },
  {
   "cell_type": "code",
   "execution_count": null,
   "id": "69647d36",
   "metadata": {},
   "outputs": [],
   "source": [
    "from duckduckgo_search import DDGS\n",
    "from fastcore.all import *\n",
    "\n",
    "def search_images(keywords, max_results = 100):\n",
    "    \"Search for images using DuckDuckGo and return the URLs of the images.\"\n",
    "    return L(DDGS().images(keywords, max_results = max_results)).itemgot(\"image\")"
   ]
  },
  {
   "cell_type": "code",
   "execution_count": null,
   "id": "3e953acf",
   "metadata": {},
   "outputs": [],
   "source": [
    "#Search from grizzly photo\n",
    "urls = search_images(\"grizzly bear\", max_results =1)\n",
    "\n",
    "urls[0]"
   ]
  },
  {
   "cell_type": "code",
   "execution_count": null,
   "id": "510d4bdf",
   "metadata": {},
   "outputs": [],
   "source": [
    "from fastdownload import download_url\n",
    "dest = \"grizzly bear\"\n",
    "download_url(urls[0], dest, show_progress = True)\n",
    "\n",
    "\n",
    "from fastai.vision.all import *\n",
    "im = Image.open(dest)\n",
    "im.to_thumb(256, 256)"
   ]
  },
  {
   "cell_type": "code",
   "execution_count": null,
   "id": "7edfa74f",
   "metadata": {},
   "outputs": [],
   "source": [
    "#Download images\n",
    "bear_types = 'grizzly', 'black', 'polar'\n",
    "path = Path(\"bears\")\n",
    "\n",
    "if not path.exists():\n",
    "    path.mkdir()\n",
    "    for bear in bear_types:\n",
    "        dest = (path/bear)\n",
    "        dest.mkdir(exist_ok = True)\n",
    "        results = search_images(f\"{bear} bear\")\n",
    "        download_images(dest, urls = results)"
   ]
  },
  {
   "cell_type": "code",
   "execution_count": null,
   "id": "59807610",
   "metadata": {},
   "outputs": [],
   "source": [
    "#Delete failed images\n",
    "fns = get_image_files(path)\n",
    "\n",
    "failed = verify_images(fns)\n",
    "len(failed)"
   ]
  },
  {
   "cell_type": "code",
   "execution_count": null,
   "id": "b6d03444",
   "metadata": {},
   "outputs": [],
   "source": [
    "failed.map(Path.unlink)"
   ]
  },
  {
   "cell_type": "code",
   "execution_count": null,
   "id": "4c91d380",
   "metadata": {},
   "outputs": [],
   "source": [
    "from fastai.vision.all import *"
   ]
  },
  {
   "cell_type": "code",
   "execution_count": null,
   "id": "620cdae3",
   "metadata": {},
   "outputs": [],
   "source": [
    "bears = DataBlock(\n",
    "    blocks=(ImageBlock, CategoryBlock), \n",
    "    get_items=get_image_files, \n",
    "    splitter=RandomSplitter(valid_pct=0.2, seed=42),\n",
    "    get_y=parent_label,\n",
    "    item_tfms=Resize(128),\n",
    "    batch_tfms=aug_transforms(mult=1.0)\n",
    ")"
   ]
  },
  {
   "cell_type": "code",
   "execution_count": null,
   "id": "2f075c4c",
   "metadata": {},
   "outputs": [],
   "source": [
    "dls = bears.dataloaders(path, bs=4)\n",
    "dls.show_batch(max_n=9)  # Test display"
   ]
  },
  {
   "cell_type": "code",
   "execution_count": null,
   "id": "663391e5",
   "metadata": {},
   "outputs": [],
   "source": [
    "learn = vision_learner(dls, resnet18, metrics=error_rate)\n",
    "learn.fine_tune(4)"
   ]
  },
  {
   "cell_type": "code",
   "execution_count": null,
   "id": "5b57a423",
   "metadata": {},
   "outputs": [],
   "source": [
    "interp = ClassificationInterpretation.from_learner(learn)\n",
    "interp.plot_confusion_matrix()"
   ]
  },
  {
   "cell_type": "code",
   "execution_count": null,
   "id": "38881bd8",
   "metadata": {},
   "outputs": [],
   "source": [
    "interp.plot_top_losses(5, nrows=1)"
   ]
  },
  {
   "cell_type": "code",
   "execution_count": null,
   "id": "2cb9f9fc",
   "metadata": {},
   "outputs": [],
   "source": [
    "!pip install ipywidgets -Uqq"
   ]
  },
  {
   "cell_type": "code",
   "execution_count": null,
   "id": "37eee163",
   "metadata": {},
   "outputs": [],
   "source": [
    "from fastai.vision.widgets import ImageClassifierCleaner\n",
    "cleaner = ImageClassifierCleaner(learn)\n",
    "cleaner"
   ]
  },
  {
   "cell_type": "code",
   "execution_count": null,
   "id": "f2c5e6b3",
   "metadata": {},
   "outputs": [],
   "source": [
    "learn.export()"
   ]
  }
 ],
 "metadata": {
  "kernelspec": {
   "display_name": "data_things",
   "language": "python",
   "name": "python3"
  },
  "language_info": {
   "codemirror_mode": {
    "name": "ipython",
    "version": 3
   },
   "file_extension": ".py",
   "mimetype": "text/x-python",
   "name": "python",
   "nbconvert_exporter": "python",
   "pygments_lexer": "ipython3",
   "version": "3.12.8"
  }
 },
 "nbformat": 4,
 "nbformat_minor": 5
}
